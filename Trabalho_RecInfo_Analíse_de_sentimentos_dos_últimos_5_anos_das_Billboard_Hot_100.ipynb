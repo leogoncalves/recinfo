{
  "nbformat": 4,
  "nbformat_minor": 0,
  "metadata": {
    "colab": {
      "name": "Trabalho RecInfo - Analíse de sentimentos dos últimos 5 anos das Billboard Hot 100.ipynb",
      "provenance": [],
      "collapsed_sections": [],
      "authorship_tag": "ABX9TyOz8fCmu8CUbXMea/LJCFjb",
      "include_colab_link": true
    },
    "kernelspec": {
      "name": "python3",
      "display_name": "Python 3"
    },
    "language_info": {
      "name": "python"
    }
  },
  "cells": [
    {
      "cell_type": "markdown",
      "metadata": {
        "id": "view-in-github",
        "colab_type": "text"
      },
      "source": [
        "<a href=\"https://colab.research.google.com/github/leogoncalves/recinfo/blob/main/Trabalho_RecInfo_Anal%C3%ADse_de_sentimentos_dos_%C3%BAltimos_5_anos_das_Billboard_Hot_100.ipynb\" target=\"_parent\"><img src=\"https://colab.research.google.com/assets/colab-badge.svg\" alt=\"Open In Colab\"/></a>"
      ]
    },
    {
      "cell_type": "markdown",
      "source": [
        "# Readme"
      ],
      "metadata": {
        "id": "0wjkKK_7ghqw"
      }
    },
    {
      "cell_type": "code",
      "source": [
        "import pandas as pd\n",
        "import numpy as np\n",
        "import seaborn as sns\n",
        "import nltk"
      ],
      "metadata": {
        "id": "XxinHV2-gqOn"
      },
      "execution_count": 1,
      "outputs": []
    },
    {
      "cell_type": "code",
      "source": [
        "review_music_instruments_dataset = 'https://raw.githubusercontent.com/leogoncalves/recinfo/main/amazon_musical_instruments_review.csv'\n",
        "dataframe = pd.read_csv(review_music_instruments_dataset, error_bad_lines = False)\n",
        "\n",
        "# Remove null and empty values\n",
        "dataframe = dataframe.dropna()\n",
        "\n",
        "# Reset index\n",
        "dataframe = dataframe.reset_index(drop=True)\n",
        "\n",
        "# With near by 10k reviews, we need adjust type data\n",
        "dataframe['helpful/0'] = dataframe['helpful/0'].astype(int)\n",
        "dataframe['helpful/1'] = dataframe['helpful/1'].astype(int)\n",
        "dataframe['overall'] = dataframe['overall'].astype(int)\n",
        "\n"
      ],
      "metadata": {
        "colab": {
          "base_uri": "https://localhost:8080/"
        },
        "id": "QUAXXJY4gwQ5",
        "outputId": "7a26f36b-aa44-4ca0-b6a1-137d0386abfa"
      },
      "execution_count": 2,
      "outputs": [
        {
          "output_type": "stream",
          "name": "stderr",
          "text": [
            "/usr/local/lib/python3.7/dist-packages/IPython/core/interactiveshell.py:2882: FutureWarning: The error_bad_lines argument has been deprecated and will be removed in a future version.\n",
            "\n",
            "\n",
            "  exec(code_obj, self.user_global_ns, self.user_ns)\n"
          ]
        }
      ]
    },
    {
      "cell_type": "markdown",
      "source": [
        "We need make a exploratory analysis from data before continue. We plot some graphs here.\n",
        "The overall column has a "
      ],
      "metadata": {
        "id": "QHKqulGgklZs"
      }
    },
    {
      "cell_type": "code",
      "source": [
        "sns.histplot(data=dataframe.overall, kde=True)\n"
      ],
      "metadata": {
        "colab": {
          "base_uri": "https://localhost:8080/",
          "height": 297
        },
        "id": "Pf59-IUjkk0z",
        "outputId": "9bd16741-925b-4321-cef4-a4fe862a726e"
      },
      "execution_count": 3,
      "outputs": [
        {
          "output_type": "execute_result",
          "data": {
            "text/plain": [
              "<matplotlib.axes._subplots.AxesSubplot at 0x7f62b7c3b610>"
            ]
          },
          "metadata": {},
          "execution_count": 3
        },
        {
          "output_type": "display_data",
          "data": {
            "image/png": "[encoded data removed]",
            "text/plain": [
              "<Figure size 432x288 with 1 Axes>"
            ]
          },
          "metadata": {
            "needs_background": "light"
          }
        }
      ]
    },
    {
      "cell_type": "markdown",
      "source": [
        "The higher frequency of good reviews its clear. We proceed with adding a label to each point\n",
        "1-2 stars: negative review\n",
        "3 stars: neutral review\n",
        "4-5 stars: positive review\n",
        "\n"
      ],
      "metadata": {
        "id": "7ry5JNo8mFDu"
      }
    },
    {
      "cell_type": "code",
      "source": [
        "# remove neutral reviews\n",
        "dataframe = dataframe[dataframe['overall'] != 3]\n",
        "\n",
        "# Create a label column. \n",
        "dataframe['label'] = np.where(dataframe['overall'] >= 4, 1, 0)\n",
        "\n",
        "# Count ratings\n",
        "dataframe['overall'].value_counts()"
      ],
      "metadata": {
        "colab": {
          "base_uri": "https://localhost:8080/"
        },
        "id": "pxR9wxt0nLmv",
        "outputId": "ab84d09c-7b93-4194-cb3b-2d067328a211"
      },
      "execution_count": 4,
      "outputs": [
        {
          "output_type": "stream",
          "name": "stderr",
          "text": [
            "/usr/local/lib/python3.7/dist-packages/ipykernel_launcher.py:5: SettingWithCopyWarning: \n",
            "A value is trying to be set on a copy of a slice from a DataFrame.\n",
            "Try using .loc[row_indexer,col_indexer] = value instead\n",
            "\n",
            "See the caveats in the documentation: https://pandas.pydata.org/pandas-docs/stable/user_guide/indexing.html#returning-a-view-versus-a-copy\n",
            "  \"\"\"\n"
          ]
        },
        {
          "output_type": "execute_result",
          "data": {
            "text/plain": [
              "5    6912\n",
              "4    2079\n",
              "2     249\n",
              "1     216\n",
              "Name: overall, dtype: int64"
            ]
          },
          "metadata": {},
          "execution_count": 4
        }
      ]
    },
    {
      "cell_type": "markdown",
      "source": [
        "Positive reviews: 8991 (95.09%)\n",
        "\n",
        "Negative Reviews: 464 (4.91%)\n",
        "\n",
        "Total: 9455 (100%)\n"
      ],
      "metadata": {
        "id": "bUkIvTR12YSr"
      }
    },
    {
      "cell_type": "code",
      "source": [
        "# Now we are creating the model by considering the 100000 reviews. In the 1,00,000 reviews 50,000 are positive and 50,000 are negative.\n",
        "# I am shuffling the review as to take random 1,00,000 reviews from 16,07,094. You can ignore if you don’t want to shuffle.\n",
        "# df = df.sample(frac=1).reset_index(drop=True) #shuffle\n",
        "# data=df[df['label']==0][:50000]\n",
        "# data=data.append(df[df['label']==1][:50000])\n",
        "# data = data.reset_index(drop=True)\n",
        "# display(data['label'].value_counts())\n",
        "# data"
      ],
      "metadata": {
        "id": "mcyE75g83SAB"
      },
      "execution_count": 5,
      "outputs": []
    },
    {
      "cell_type": "markdown",
      "source": [
        "Now we need clear text (remove html and transforme all words to lowercase)"
      ],
      "metadata": {
        "id": "R9-gkZIr3lEp"
      }
    },
    {
      "cell_type": "code",
      "source": [
        "# Convert text to lower case\n",
        "dataframe['pre_process'] = dataframe['reviewText'].apply(lambda x: \" \".join(x.lower() for x in str(x).split()))\n",
        "\n",
        "# Remove html tags and urls\n",
        "from bs4 import BeautifulSoup\n",
        "dataframe['pre_process'] = dataframe['pre_process'].apply(lambda x: BeautifulSoup(x).get_text())\n",
        "\n",
        "import re\n",
        "dataframe['pre_process'] = dataframe['pre_process'].apply(lambda x: re.sub(r\"http+\\S\", \"\", x))\n",
        "\n",
        "# Remove contractions from review\n",
        "\n",
        "def contractions(sentence):\n",
        "  s = sentence\n",
        "  s = re.sub(r\"won’t\", \"will not\",s)\n",
        "  s = re.sub(r\"would’t\", \"would not\",s)\n",
        "  s = re.sub(r\"could’t\", \"could not\",s)\n",
        "  s = re.sub(r\"\\’d\", \" would\",s)\n",
        "  s = re.sub(r\"can\\’t\", \"can not\",s)\n",
        "  s = re.sub(r\"n\\’t\", \" not\", s)\n",
        "  s= re.sub(r\"\\’re\", \" are\", s)\n",
        "  s = re.sub(r\"\\’s\", \" is\", s)\n",
        "  s = re.sub(r\"\\’ll\", \" will\", s)\n",
        "  s = re.sub(r\"\\’t\", \" not\", s)\n",
        "  s = re.sub(r\"\\’ve\", \" have\", s)\n",
        "  s = re.sub(r\"\\’m\", \" am\", s)\n",
        "  return s\n",
        "\n",
        "dataframe['pre_process'] = dataframe['pre_process'].apply(lambda x: contractions(x))\n",
        "\n",
        "# Remove non-alpha characters\n",
        "nltk.download('punkt')\n",
        "dataframe['pre_process'] = dataframe['pre_process'].apply(lambda x: \" \".join([re.sub(r'[^A-Za-z]+', '', x) for x in nltk.word_tokenize(x)]))\n",
        "\n",
        "# Remove extra spaces\n",
        "dataframe['pre_process'] = dataframe['pre_process'].apply(lambda x: re.sub(' +', ' ', x))\n",
        "\n",
        "# Remove stopwords\n",
        "nltk.download('stopwords')\n",
        "from nltk.corpus import stopwords\n",
        "english_stopwords = stopwords.words('english')\n",
        "dataframe['pre_process'] = dataframe['pre_process'].apply(lambda x: \" \".join([x for x in x.split() if x not in english_stopwords]))\n",
        "\n",
        "# Apply lemmatization\n",
        "nltk.download('wordnet')\n",
        "from nltk.stem import WordNetLemmatizer\n",
        "lemmatizer = WordNetLemmatizer()\n",
        "dataframe['pre_process'] = dataframe['pre_process'].apply(lambda x: \" \".join([lemmatizer.lemmatize(w) for w in nltk.word_tokenize(x)]))\n",
        "\n",
        "dataframe"
      ],
      "metadata": {
        "colab": {
          "base_uri": "https://localhost:8080/",
          "height": 1000
        },
        "id": "DXSgojrS3j7y",
        "outputId": "e14abaa1-a3ec-42dc-be47-8707ff1a82da"
      },
      "execution_count": 12,
      "outputs": [
        {
          "output_type": "stream",
          "name": "stdout",
          "text": [
            "[nltk_data] Downloading package punkt to /root/nltk_data...\n",
            "[nltk_data]   Package punkt is already up-to-date!\n",
            "[nltk_data] Downloading package stopwords to /root/nltk_data...\n",
            "[nltk_data]   Package stopwords is already up-to-date!\n",
            "[nltk_data] Downloading package wordnet to /root/nltk_data...\n",
            "[nltk_data]   Package wordnet is already up-to-date!\n"
          ]
        },
        {
          "output_type": "execute_result",
          "data": {
            "text/html": [
              "\n",
              "  <div id=\"df-5153a1b0-f508-4b23-83c6-f1b16fd5f5dc\">\n",
              "    <div class=\"colab-df-container\">\n",
              "      <div>\n",
              "<style scoped>\n",
              "    .dataframe tbody tr th:only-of-type {\n",
              "        vertical-align: middle;\n",
              "    }\n",
              "\n",
              "    .dataframe tbody tr th {\n",
              "        vertical-align: top;\n",
              "    }\n",
              "\n",
              "    .dataframe thead th {\n",
              "        text-align: right;\n",
              "    }\n",
              "</style>\n",
              "<table border=\"1\" class=\"dataframe\">\n",
              "  <thead>\n",
              "    <tr style=\"text-align: right;\">\n",
              "      <th></th>\n",
              "      <th>reviewerID</th>\n",
              "      <th>asin</th>\n",
              "      <th>reviewerName</th>\n",
              "      <th>helpful/0</th>\n",
              "      <th>helpful/1</th>\n",
              "      <th>reviewText</th>\n",
              "      <th>overall</th>\n",
              "      <th>summary</th>\n",
              "      <th>unixReviewTime</th>\n",
              "      <th>reviewTime</th>\n",
              "      <th>label</th>\n",
              "      <th>pre_process</th>\n",
              "    </tr>\n",
              "  </thead>\n",
              "  <tbody>\n",
              "    <tr>\n",
              "      <th>0</th>\n",
              "      <td>A2IBPI20UZIR0U</td>\n",
              "      <td>1384719342</td>\n",
              "      <td>cassandra tu \"Yeah, well, that's just like, u...</td>\n",
              "      <td>0</td>\n",
              "      <td>0</td>\n",
              "      <td>Not much to write about here, but it does exac...</td>\n",
              "      <td>5</td>\n",
              "      <td>good</td>\n",
              "      <td>1393545600</td>\n",
              "      <td>02 28, 2014</td>\n",
              "      <td>1</td>\n",
              "      <td>much write exactly supposed filter pop sound r...</td>\n",
              "    </tr>\n",
              "    <tr>\n",
              "      <th>1</th>\n",
              "      <td>A14VAT5EAX3D9S</td>\n",
              "      <td>1384719342</td>\n",
              "      <td>Jake</td>\n",
              "      <td>13</td>\n",
              "      <td>14</td>\n",
              "      <td>The product does exactly as it should and is q...</td>\n",
              "      <td>5</td>\n",
              "      <td>Jake</td>\n",
              "      <td>1363392000</td>\n",
              "      <td>03 16, 2013</td>\n",
              "      <td>1</td>\n",
              "      <td>product exactly quite affordablei realized dou...</td>\n",
              "    </tr>\n",
              "    <tr>\n",
              "      <th>2</th>\n",
              "      <td>A195EZSQDW3E21</td>\n",
              "      <td>1384719342</td>\n",
              "      <td>Rick Bennette \"Rick Bennette\"</td>\n",
              "      <td>1</td>\n",
              "      <td>1</td>\n",
              "      <td>The primary job of this device is to block the...</td>\n",
              "      <td>5</td>\n",
              "      <td>It Does The Job Well</td>\n",
              "      <td>1377648000</td>\n",
              "      <td>08 28, 2013</td>\n",
              "      <td>1</td>\n",
              "      <td>primary job device block breath would otherwis...</td>\n",
              "    </tr>\n",
              "    <tr>\n",
              "      <th>3</th>\n",
              "      <td>A2C00NNG1ZQQG2</td>\n",
              "      <td>1384719342</td>\n",
              "      <td>RustyBill \"Sunday Rocker\"</td>\n",
              "      <td>0</td>\n",
              "      <td>0</td>\n",
              "      <td>Nice windscreen protects my MXL mic and preven...</td>\n",
              "      <td>5</td>\n",
              "      <td>GOOD WINDSCREEN FOR THE MONEY</td>\n",
              "      <td>1392336000</td>\n",
              "      <td>02 14, 2014</td>\n",
              "      <td>1</td>\n",
              "      <td>nice windscreen protects mxl mic prevents pop ...</td>\n",
              "    </tr>\n",
              "    <tr>\n",
              "      <th>4</th>\n",
              "      <td>A94QU4C90B1AX</td>\n",
              "      <td>1384719342</td>\n",
              "      <td>SEAN MASLANKA</td>\n",
              "      <td>0</td>\n",
              "      <td>0</td>\n",
              "      <td>This pop filter is great. It looks and perform...</td>\n",
              "      <td>5</td>\n",
              "      <td>No more pops when I record my vocals.</td>\n",
              "      <td>1392940800</td>\n",
              "      <td>02 21, 2014</td>\n",
              "      <td>1</td>\n",
              "      <td>pop filter great look performs like studio fil...</td>\n",
              "    </tr>\n",
              "    <tr>\n",
              "      <th>...</th>\n",
              "      <td>...</td>\n",
              "      <td>...</td>\n",
              "      <td>...</td>\n",
              "      <td>...</td>\n",
              "      <td>...</td>\n",
              "      <td>...</td>\n",
              "      <td>...</td>\n",
              "      <td>...</td>\n",
              "      <td>...</td>\n",
              "      <td>...</td>\n",
              "      <td>...</td>\n",
              "      <td>...</td>\n",
              "    </tr>\n",
              "    <tr>\n",
              "      <th>10222</th>\n",
              "      <td>A14B2YH83ZXMPP</td>\n",
              "      <td>B00JBIVXGC</td>\n",
              "      <td>Lonnie M. Adams</td>\n",
              "      <td>0</td>\n",
              "      <td>0</td>\n",
              "      <td>Great, just as expected.  Thank to all.</td>\n",
              "      <td>5</td>\n",
              "      <td>Five Stars</td>\n",
              "      <td>1405814400</td>\n",
              "      <td>07 20, 2014</td>\n",
              "      <td>1</td>\n",
              "      <td>great expected thank</td>\n",
              "    </tr>\n",
              "    <tr>\n",
              "      <th>10223</th>\n",
              "      <td>A1RPTVW5VEOSI</td>\n",
              "      <td>B00JBIVXGC</td>\n",
              "      <td>Michael J. Edelman</td>\n",
              "      <td>0</td>\n",
              "      <td>0</td>\n",
              "      <td>I've been thinking about trying the Nanoweb st...</td>\n",
              "      <td>5</td>\n",
              "      <td>Long life, and for some players, a good econom...</td>\n",
              "      <td>1404259200</td>\n",
              "      <td>07 2, 2014</td>\n",
              "      <td>1</td>\n",
              "      <td>thinking trying nanoweb string bit put high pr...</td>\n",
              "    </tr>\n",
              "    <tr>\n",
              "      <th>10224</th>\n",
              "      <td>AWCJ12KBO5VII</td>\n",
              "      <td>B00JBIVXGC</td>\n",
              "      <td>Michael L. Knapp</td>\n",
              "      <td>0</td>\n",
              "      <td>0</td>\n",
              "      <td>I have tried coated strings in the past ( incl...</td>\n",
              "      <td>4</td>\n",
              "      <td>Good for coated.</td>\n",
              "      <td>1405987200</td>\n",
              "      <td>07 22, 2014</td>\n",
              "      <td>1</td>\n",
              "      <td>tried coated string past including elixir neve...</td>\n",
              "    </tr>\n",
              "    <tr>\n",
              "      <th>10225</th>\n",
              "      <td>A2Z7S8B5U4PAKJ</td>\n",
              "      <td>B00JBIVXGC</td>\n",
              "      <td>Rick Langdon \"Scriptor\"</td>\n",
              "      <td>0</td>\n",
              "      <td>0</td>\n",
              "      <td>Well, MADE by Elixir and DEVELOPED with Taylor...</td>\n",
              "      <td>4</td>\n",
              "      <td>Taylor Made</td>\n",
              "      <td>1404172800</td>\n",
              "      <td>07 1, 2014</td>\n",
              "      <td>1</td>\n",
              "      <td>well made elixir developed taylor guitar strin...</td>\n",
              "    </tr>\n",
              "    <tr>\n",
              "      <th>10226</th>\n",
              "      <td>A2WA8TDCTGUADI</td>\n",
              "      <td>B00JBIVXGC</td>\n",
              "      <td>TheTerrorBeyond</td>\n",
              "      <td>0</td>\n",
              "      <td>0</td>\n",
              "      <td>These strings are really quite good, but I wou...</td>\n",
              "      <td>4</td>\n",
              "      <td>These strings are really quite good, but I wou...</td>\n",
              "      <td>1405468800</td>\n",
              "      <td>07 16, 2014</td>\n",
              "      <td>1</td>\n",
              "      <td>string really quite good would nt call perfect...</td>\n",
              "    </tr>\n",
              "  </tbody>\n",
              "</table>\n",
              "<p>9456 rows × 12 columns</p>\n",
              "</div>\n",
              "      <button class=\"colab-df-convert\" onclick=\"convertToInteractive('df-5153a1b0-f508-4b23-83c6-f1b16fd5f5dc')\"\n",
              "              title=\"Convert this dataframe to an interactive table.\"\n",
              "              style=\"display:none;\">\n",
              "        \n",
              "  <svg xmlns=\"http://www.w3.org/2000/svg\" height=\"24px\"viewBox=\"0 0 24 24\"\n",
              "       width=\"24px\">\n",
              "    <path d=\"M0 0h24v24H0V0z\" fill=\"none\"/>\n",
              "    <path d=\"M18.56 5.44l.94 2.06.94-2.06 2.06-.94-2.06-.94-.94-2.06-.94 2.06-2.06.94zm-11 1L8.5 8.5l.94-2.06 2.06-.94-2.06-.94L8.5 2.5l-.94 2.06-2.06.94zm10 10l.94 2.06.94-2.06 2.06-.94-2.06-.94-.94-2.06-.94 2.06-2.06.94z\"/><path d=\"M17.41 7.96l-1.37-1.37c-.4-.4-.92-.59-1.43-.59-.52 0-1.04.2-1.43.59L10.3 9.45l-7.72 7.72c-.78.78-.78 2.05 0 2.83L4 21.41c.39.39.9.59 1.41.59.51 0 1.02-.2 1.41-.59l7.78-7.78 2.81-2.81c.8-.78.8-2.07 0-2.86zM5.41 20L4 18.59l7.72-7.72 1.47 1.35L5.41 20z\"/>\n",
              "  </svg>\n",
              "      </button>\n",
              "      \n",
              "  <style>\n",
              "    .colab-df-container {\n",
              "      display:flex;\n",
              "      flex-wrap:wrap;\n",
              "      gap: 12px;\n",
              "    }\n",
              "\n",
              "    .colab-df-convert {\n",
              "      background-color: #E8F0FE;\n",
              "      border: none;\n",
              "      border-radius: 50%;\n",
              "      cursor: pointer;\n",
              "      display: none;\n",
              "      fill: #1967D2;\n",
              "      height: 32px;\n",
              "      padding: 0 0 0 0;\n",
              "      width: 32px;\n",
              "    }\n",
              "\n",
              "    .colab-df-convert:hover {\n",
              "      background-color: #E2EBFA;\n",
              "      box-shadow: 0px 1px 2px rgba(60, 64, 67, 0.3), 0px 1px 3px 1px rgba(60, 64, 67, 0.15);\n",
              "      fill: #174EA6;\n",
              "    }\n",
              "\n",
              "    [theme=dark] .colab-df-convert {\n",
              "      background-color: #3B4455;\n",
              "      fill: #D2E3FC;\n",
              "    }\n",
              "\n",
              "    [theme=dark] .colab-df-convert:hover {\n",
              "      background-color: #434B5C;\n",
              "      box-shadow: 0px 1px 3px 1px rgba(0, 0, 0, 0.15);\n",
              "      filter: drop-shadow(0px 1px 2px rgba(0, 0, 0, 0.3));\n",
              "      fill: #FFFFFF;\n",
              "    }\n",
              "  </style>\n",
              "\n",
              "      <script>\n",
              "        const buttonEl =\n",
              "          document.querySelector('#df-5153a1b0-f508-4b23-83c6-f1b16fd5f5dc button.colab-df-convert');\n",
              "        buttonEl.style.display =\n",
              "          google.colab.kernel.accessAllowed ? 'block' : 'none';\n",
              "\n",
              "        async function convertToInteractive(key) {\n",
              "          const element = document.querySelector('#df-5153a1b0-f508-4b23-83c6-f1b16fd5f5dc');\n",
              "          const dataTable =\n",
              "            await google.colab.kernel.invokeFunction('convertToInteractive',\n",
              "                                                     [key], {});\n",
              "          if (!dataTable) return;\n",
              "\n",
              "          const docLinkHtml = 'Like what you see? Visit the ' +\n",
              "            '<a target=\"_blank\" href=https://colab.research.google.com/notebooks/data_table.ipynb>data table notebook</a>'\n",
              "            + ' to learn more about interactive tables.';\n",
              "          element.innerHTML = '';\n",
              "          dataTable['output_type'] = 'display_data';\n",
              "          await google.colab.output.renderOutput(dataTable, element);\n",
              "          const docLink = document.createElement('div');\n",
              "          docLink.innerHTML = docLinkHtml;\n",
              "          element.appendChild(docLink);\n",
              "        }\n",
              "      </script>\n",
              "    </div>\n",
              "  </div>\n",
              "  "
            ],
            "text/plain": [
              "           reviewerID  ...                                        pre_process\n",
              "0      A2IBPI20UZIR0U  ...  much write exactly supposed filter pop sound r...\n",
              "1      A14VAT5EAX3D9S  ...  product exactly quite affordablei realized dou...\n",
              "2      A195EZSQDW3E21  ...  primary job device block breath would otherwis...\n",
              "3      A2C00NNG1ZQQG2  ...  nice windscreen protects mxl mic prevents pop ...\n",
              "4       A94QU4C90B1AX  ...  pop filter great look performs like studio fil...\n",
              "...               ...  ...                                                ...\n",
              "10222  A14B2YH83ZXMPP  ...                               great expected thank\n",
              "10223   A1RPTVW5VEOSI  ...  thinking trying nanoweb string bit put high pr...\n",
              "10224   AWCJ12KBO5VII  ...  tried coated string past including elixir neve...\n",
              "10225  A2Z7S8B5U4PAKJ  ...  well made elixir developed taylor guitar strin...\n",
              "10226  A2WA8TDCTGUADI  ...  string really quite good would nt call perfect...\n",
              "\n",
              "[9456 rows x 12 columns]"
            ]
          },
          "metadata": {},
          "execution_count": 12
        }
      ]
    },
    {
      "cell_type": "markdown",
      "source": [
        "Now, we apply tf-idf on text. "
      ],
      "metadata": {
        "id": "4fnQE4bfJgzg"
      }
    },
    {
      "cell_type": "code",
      "source": [
        "from sklearn.model_selection import train_test_split \n",
        "X_train, X_test, Y_train, Y_test = train_test_split(dataframe['pre_process'], dataframe['label'], test_size=0.25, random_state=30)\n",
        "\n",
        "print(\"Train: \", X_train.shape, Y_train.shape)\n",
        "print(\"Test: \", X_test.shape, Y_test.shape)\n",
        "\n",
        "print(\"TFIDF Vectorizer\")\n",
        "from sklearn.feature_extraction.text import TfidfVectorizer\n",
        "vectorizer= TfidfVectorizer()\n",
        "tf_x_train = vectorizer.fit_transform(X_train)\n",
        "tf_x_test = vectorizer.transform(X_test)\n",
        "\n",
        "from sklearn.svm import LinearSVC\n",
        "clf = LinearSVC(random_state=0)\n",
        "\n",
        "clf.fit(tf_x_train,Y_train)\n",
        "y_test_pred=clf.predict(tf_x_test)\n",
        "\n",
        "from sklearn.metrics import classification_report\n",
        "report=classification_report(Y_test, y_test_pred,output_dict=True)\n",
        "\n",
        "report"
      ],
      "metadata": {
        "colab": {
          "base_uri": "https://localhost:8080/"
        },
        "id": "9kqGUh26KYAe",
        "outputId": "fa4b5e22-6d21-45a3-958a-f57a936a577f"
      },
      "execution_count": 14,
      "outputs": [
        {
          "output_type": "stream",
          "name": "stdout",
          "text": [
            "Train:  (7092,) (7092,)\n",
            "Test:  (2364,) (2364,)\n",
            "TFIDF Vectorizer\n"
          ]
        },
        {
          "output_type": "execute_result",
          "data": {
            "text/plain": [
              "{'0': {'f1-score': 0.2377622377622378,\n",
              "  'precision': 0.7727272727272727,\n",
              "  'recall': 0.14049586776859505,\n",
              "  'support': 121},\n",
              " '1': {'f1-score': 0.976226826608506,\n",
              "  'precision': 0.955593509820666,\n",
              "  'recall': 0.9977708426214891,\n",
              "  'support': 2243},\n",
              " 'accuracy': 0.9538917089678511,\n",
              " 'macro avg': {'f1-score': 0.6069945321853719,\n",
              "  'precision': 0.8641603912739694,\n",
              "  'recall': 0.569133355195042,\n",
              "  'support': 2364},\n",
              " 'weighted avg': {'f1-score': 0.9384289352166285,\n",
              "  'precision': 0.9462336051301836,\n",
              "  'recall': 0.9538917089678511,\n",
              "  'support': 2364}}"
            ]
          },
          "metadata": {},
          "execution_count": 14
        }
      ]
    },
    {
      "cell_type": "code",
      "source": [
        "# Using logistic regression\n",
        "from sklearn.linear_model import LogisticRegression\n",
        "clf = LogisticRegression(max_iter=1000,solver='saga')\n",
        "\n",
        "clf.fit(tf_x_train,Y_train)\n",
        "y_test_pred=clf.predict(tf_x_test)\n",
        "\n",
        "from sklearn.metrics import classification_report\n",
        "report=classification_report(Y_test, y_test_pred,output_dict=True)\n",
        "\n",
        "report"
      ],
      "metadata": {
        "colab": {
          "base_uri": "https://localhost:8080/"
        },
        "id": "1Rm1KXIkOCAA",
        "outputId": "ec86c51a-efb5-4c8f-a09a-0d78c494bab7"
      },
      "execution_count": 16,
      "outputs": [
        {
          "output_type": "stream",
          "name": "stderr",
          "text": [
            "/usr/local/lib/python3.7/dist-packages/sklearn/metrics/_classification.py:1318: UndefinedMetricWarning: Precision and F-score are ill-defined and being set to 0.0 in labels with no predicted samples. Use `zero_division` parameter to control this behavior.\n",
            "  _warn_prf(average, modifier, msg_start, len(result))\n",
            "/usr/local/lib/python3.7/dist-packages/sklearn/metrics/_classification.py:1318: UndefinedMetricWarning: Precision and F-score are ill-defined and being set to 0.0 in labels with no predicted samples. Use `zero_division` parameter to control this behavior.\n",
            "  _warn_prf(average, modifier, msg_start, len(result))\n",
            "/usr/local/lib/python3.7/dist-packages/sklearn/metrics/_classification.py:1318: UndefinedMetricWarning: Precision and F-score are ill-defined and being set to 0.0 in labels with no predicted samples. Use `zero_division` parameter to control this behavior.\n",
            "  _warn_prf(average, modifier, msg_start, len(result))\n"
          ]
        },
        {
          "output_type": "execute_result",
          "data": {
            "text/plain": [
              "{'0': {'f1-score': 0.0, 'precision': 0.0, 'recall': 0.0, 'support': 121},\n",
              " '1': {'f1-score': 0.9737356197091384,\n",
              "  'precision': 0.9488155668358714,\n",
              "  'recall': 1.0,\n",
              "  'support': 2243},\n",
              " 'accuracy': 0.9488155668358714,\n",
              " 'macro avg': {'f1-score': 0.4868678098545692,\n",
              "  'precision': 0.4744077834179357,\n",
              "  'recall': 0.5,\n",
              "  'support': 2364},\n",
              " 'weighted avg': {'f1-score': 0.9238955139626047,\n",
              "  'precision': 0.900250979870076,\n",
              "  'recall': 0.9488155668358714,\n",
              "  'support': 2364}}"
            ]
          },
          "metadata": {},
          "execution_count": 16
        }
      ]
    }
  ]
}