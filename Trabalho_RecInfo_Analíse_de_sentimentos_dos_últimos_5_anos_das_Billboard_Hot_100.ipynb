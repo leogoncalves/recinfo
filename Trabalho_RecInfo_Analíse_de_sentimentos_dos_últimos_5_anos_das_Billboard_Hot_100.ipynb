{
  "nbformat": 4,
  "nbformat_minor": 0,
  "metadata": {
    "colab": {
      "name": "Trabalho RecInfo - Analíse de sentimentos dos últimos 5 anos das Billboard Hot 100.ipynb",
      "provenance": [],
      "collapsed_sections": [],
      "mount_file_id": "1K8VIatz_ktPHzrYTqGjIhmAtzdFS6WDB",
      "authorship_tag": "ABX9TyNS5ikCY7uoTlieH/v9lcuR",
      "include_colab_link": true
    },
    "kernelspec": {
      "name": "python3",
      "display_name": "Python 3"
    },
    "language_info": {
      "name": "python"
    }
  },
  "cells": [
    {
      "cell_type": "markdown",
      "metadata": {
        "id": "view-in-github",
        "colab_type": "text"
      },
      "source": [
        "<a href=\"https://colab.research.google.com/github/leogoncalves/recinfo/blob/main/Trabalho_RecInfo_Anal%C3%ADse_de_sentimentos_dos_%C3%BAltimos_5_anos_das_Billboard_Hot_100.ipynb\" target=\"_parent\"><img src=\"https://colab.research.google.com/assets/colab-badge.svg\" alt=\"Open In Colab\"/></a>"
      ]
    },
    {
      "cell_type": "code",
      "execution_count": null,
      "metadata": {
        "id": "QWI5XWYJs0to"
      },
      "outputs": [],
      "source": [
        "# kaggle dataset: https://www.kaggle.com/dhruvildave/billboard-the-hot-100-songs\n",
        "# spotify api https://developer.spotify.com/documentation/web-api/reference/#/operations/get-audio-features"
      ]
    },
    {
      "cell_type": "code",
      "source": [
        "import pandas as pd\n"
      ],
      "metadata": {
        "id": "QwQEAQnmC6qO"
      },
      "execution_count": null,
      "outputs": []
    }
  ]
}